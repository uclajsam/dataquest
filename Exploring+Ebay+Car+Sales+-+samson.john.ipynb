{
 "cells": [
  {
   "cell_type": "markdown",
   "metadata": {
    "collapsed": true
   },
   "source": [
    "# Exploring eBay Car Sales Data"
   ]
  },
  {
   "cell_type": "markdown",
   "metadata": {},
   "source": [
    "In this project we will work with a dataset from `eBay Kleinanzeigen`, a classifieds section of the German eBay website.  The original data has over 370,000 rows and was scraped and uploaded to Kaggle.  For simplicity purposes, we will only use a subset of 50,000 rows.\n",
    "\n",
    "Below is a data dictionary describing what each column represents:\n",
    "\n",
    "Column | Description | Column | Description\n",
    "--- | --- | --- | --- |\n",
    "`dateCrawled` | When the ad was first crawled | `model` | The car model name \n",
    "`name`  | Name of the Car | `kilometer` | How many kilometers the car has driven\n",
    "`seller` | Whether the seller is private or a dealer | `monthOfRegistration` | The month when the car was first registered\n",
    "`offerType` | The type of listing | `fuelType` | Type of fuel the car uses\n",
    "`price` | Listed price to sell the car | `brand` | Brand of the car \n",
    "`abtest` | Whether the listing is included in an A/B test | `notRepairedDamage` | Damaged car has not been repaired\n",
    "`vehicleType` | The vehicle type | `dateCreated` | Date listing was created on eBay\n",
    "`yearOfRegistration` | The year in which the car was first registered | `nrOfPictures` | The number of pictures in the ad\n",
    "`gearbox` | Trasmission type | `postal` | The postal code for the location of the vehicle\n",
    "`powerPS` | The power of the car in PS | `lastSeenOnline` | When the crawler saw this ad last online\n",
    "\n",
    "The aim of this project is to clean the data to make it easier to work with.  Also, we will analyze different parts of the data to show certain relationships between categories\n",
    "\n"
   ]
  },
  {
   "cell_type": "code",
   "execution_count": 3,
   "metadata": {
    "collapsed": false
   },
   "outputs": [],
   "source": [
    "# Importing the necessary libraries we need for this project and importing the CSV file \n",
    "\n",
    "import pandas as pd\n",
    "import numpy as np\n",
    "\n",
    "autos = pd.read_csv(\"autos.csv\", encoding = \"Windows-1252\")\n"
   ]
  },
  {
   "cell_type": "code",
   "execution_count": 2,
   "metadata": {
    "collapsed": false
   },
   "outputs": [
    {
     "name": "stdout",
     "output_type": "stream",
     "text": [
      "<class 'pandas.core.frame.DataFrame'>\n",
      "RangeIndex: 50000 entries, 0 to 49999\n",
      "Data columns (total 20 columns):\n",
      "dateCrawled            50000 non-null object\n",
      "name                   50000 non-null object\n",
      "seller                 50000 non-null object\n",
      "offerType              50000 non-null object\n",
      "price                  50000 non-null object\n",
      "abtest                 50000 non-null object\n",
      "vehicleType            44905 non-null object\n",
      "yearOfRegistration     50000 non-null int64\n",
      "gearbox                47320 non-null object\n",
      "powerPS                50000 non-null int64\n",
      "model                  47242 non-null object\n",
      "odometer               50000 non-null object\n",
      "monthOfRegistration    50000 non-null int64\n",
      "fuelType               45518 non-null object\n",
      "brand                  50000 non-null object\n",
      "notRepairedDamage      40171 non-null object\n",
      "dateCreated            50000 non-null object\n",
      "nrOfPictures           50000 non-null int64\n",
      "postalCode             50000 non-null int64\n",
      "lastSeen               50000 non-null object\n",
      "dtypes: int64(5), object(15)\n",
      "memory usage: 7.6+ MB\n"
     ]
    },
    {
     "data": {
      "text/html": [
       "<div>\n",
       "<style scoped>\n",
       "    .dataframe tbody tr th:only-of-type {\n",
       "        vertical-align: middle;\n",
       "    }\n",
       "\n",
       "    .dataframe tbody tr th {\n",
       "        vertical-align: top;\n",
       "    }\n",
       "\n",
       "    .dataframe thead th {\n",
       "        text-align: right;\n",
       "    }\n",
       "</style>\n",
       "<table border=\"1\" class=\"dataframe\">\n",
       "  <thead>\n",
       "    <tr style=\"text-align: right;\">\n",
       "      <th></th>\n",
       "      <th>dateCrawled</th>\n",
       "      <th>name</th>\n",
       "      <th>seller</th>\n",
       "      <th>offerType</th>\n",
       "      <th>price</th>\n",
       "      <th>abtest</th>\n",
       "      <th>vehicleType</th>\n",
       "      <th>yearOfRegistration</th>\n",
       "      <th>gearbox</th>\n",
       "      <th>powerPS</th>\n",
       "      <th>model</th>\n",
       "      <th>odometer</th>\n",
       "      <th>monthOfRegistration</th>\n",
       "      <th>fuelType</th>\n",
       "      <th>brand</th>\n",
       "      <th>notRepairedDamage</th>\n",
       "      <th>dateCreated</th>\n",
       "      <th>nrOfPictures</th>\n",
       "      <th>postalCode</th>\n",
       "      <th>lastSeen</th>\n",
       "    </tr>\n",
       "  </thead>\n",
       "  <tbody>\n",
       "    <tr>\n",
       "      <th>0</th>\n",
       "      <td>2016-03-26 17:47:46</td>\n",
       "      <td>Peugeot_807_160_NAVTECH_ON_BOARD</td>\n",
       "      <td>privat</td>\n",
       "      <td>Angebot</td>\n",
       "      <td>$5,000</td>\n",
       "      <td>control</td>\n",
       "      <td>bus</td>\n",
       "      <td>2004</td>\n",
       "      <td>manuell</td>\n",
       "      <td>158</td>\n",
       "      <td>andere</td>\n",
       "      <td>150,000km</td>\n",
       "      <td>3</td>\n",
       "      <td>lpg</td>\n",
       "      <td>peugeot</td>\n",
       "      <td>nein</td>\n",
       "      <td>2016-03-26 00:00:00</td>\n",
       "      <td>0</td>\n",
       "      <td>79588</td>\n",
       "      <td>2016-04-06 06:45:54</td>\n",
       "    </tr>\n",
       "    <tr>\n",
       "      <th>1</th>\n",
       "      <td>2016-04-04 13:38:56</td>\n",
       "      <td>BMW_740i_4_4_Liter_HAMANN_UMBAU_Mega_Optik</td>\n",
       "      <td>privat</td>\n",
       "      <td>Angebot</td>\n",
       "      <td>$8,500</td>\n",
       "      <td>control</td>\n",
       "      <td>limousine</td>\n",
       "      <td>1997</td>\n",
       "      <td>automatik</td>\n",
       "      <td>286</td>\n",
       "      <td>7er</td>\n",
       "      <td>150,000km</td>\n",
       "      <td>6</td>\n",
       "      <td>benzin</td>\n",
       "      <td>bmw</td>\n",
       "      <td>nein</td>\n",
       "      <td>2016-04-04 00:00:00</td>\n",
       "      <td>0</td>\n",
       "      <td>71034</td>\n",
       "      <td>2016-04-06 14:45:08</td>\n",
       "    </tr>\n",
       "    <tr>\n",
       "      <th>2</th>\n",
       "      <td>2016-03-26 18:57:24</td>\n",
       "      <td>Volkswagen_Golf_1.6_United</td>\n",
       "      <td>privat</td>\n",
       "      <td>Angebot</td>\n",
       "      <td>$8,990</td>\n",
       "      <td>test</td>\n",
       "      <td>limousine</td>\n",
       "      <td>2009</td>\n",
       "      <td>manuell</td>\n",
       "      <td>102</td>\n",
       "      <td>golf</td>\n",
       "      <td>70,000km</td>\n",
       "      <td>7</td>\n",
       "      <td>benzin</td>\n",
       "      <td>volkswagen</td>\n",
       "      <td>nein</td>\n",
       "      <td>2016-03-26 00:00:00</td>\n",
       "      <td>0</td>\n",
       "      <td>35394</td>\n",
       "      <td>2016-04-06 20:15:37</td>\n",
       "    </tr>\n",
       "    <tr>\n",
       "      <th>3</th>\n",
       "      <td>2016-03-12 16:58:10</td>\n",
       "      <td>Smart_smart_fortwo_coupe_softouch/F1/Klima/Pan...</td>\n",
       "      <td>privat</td>\n",
       "      <td>Angebot</td>\n",
       "      <td>$4,350</td>\n",
       "      <td>control</td>\n",
       "      <td>kleinwagen</td>\n",
       "      <td>2007</td>\n",
       "      <td>automatik</td>\n",
       "      <td>71</td>\n",
       "      <td>fortwo</td>\n",
       "      <td>70,000km</td>\n",
       "      <td>6</td>\n",
       "      <td>benzin</td>\n",
       "      <td>smart</td>\n",
       "      <td>nein</td>\n",
       "      <td>2016-03-12 00:00:00</td>\n",
       "      <td>0</td>\n",
       "      <td>33729</td>\n",
       "      <td>2016-03-15 03:16:28</td>\n",
       "    </tr>\n",
       "    <tr>\n",
       "      <th>4</th>\n",
       "      <td>2016-04-01 14:38:50</td>\n",
       "      <td>Ford_Focus_1_6_Benzin_TÜV_neu_ist_sehr_gepfleg...</td>\n",
       "      <td>privat</td>\n",
       "      <td>Angebot</td>\n",
       "      <td>$1,350</td>\n",
       "      <td>test</td>\n",
       "      <td>kombi</td>\n",
       "      <td>2003</td>\n",
       "      <td>manuell</td>\n",
       "      <td>0</td>\n",
       "      <td>focus</td>\n",
       "      <td>150,000km</td>\n",
       "      <td>7</td>\n",
       "      <td>benzin</td>\n",
       "      <td>ford</td>\n",
       "      <td>nein</td>\n",
       "      <td>2016-04-01 00:00:00</td>\n",
       "      <td>0</td>\n",
       "      <td>39218</td>\n",
       "      <td>2016-04-01 14:38:50</td>\n",
       "    </tr>\n",
       "  </tbody>\n",
       "</table>\n",
       "</div>"
      ],
      "text/plain": [
       "           dateCrawled                                               name  \\\n",
       "0  2016-03-26 17:47:46                   Peugeot_807_160_NAVTECH_ON_BOARD   \n",
       "1  2016-04-04 13:38:56         BMW_740i_4_4_Liter_HAMANN_UMBAU_Mega_Optik   \n",
       "2  2016-03-26 18:57:24                         Volkswagen_Golf_1.6_United   \n",
       "3  2016-03-12 16:58:10  Smart_smart_fortwo_coupe_softouch/F1/Klima/Pan...   \n",
       "4  2016-04-01 14:38:50  Ford_Focus_1_6_Benzin_TÜV_neu_ist_sehr_gepfleg...   \n",
       "\n",
       "   seller offerType   price   abtest vehicleType  yearOfRegistration  \\\n",
       "0  privat   Angebot  $5,000  control         bus                2004   \n",
       "1  privat   Angebot  $8,500  control   limousine                1997   \n",
       "2  privat   Angebot  $8,990     test   limousine                2009   \n",
       "3  privat   Angebot  $4,350  control  kleinwagen                2007   \n",
       "4  privat   Angebot  $1,350     test       kombi                2003   \n",
       "\n",
       "     gearbox  powerPS   model   odometer  monthOfRegistration fuelType  \\\n",
       "0    manuell      158  andere  150,000km                    3      lpg   \n",
       "1  automatik      286     7er  150,000km                    6   benzin   \n",
       "2    manuell      102    golf   70,000km                    7   benzin   \n",
       "3  automatik       71  fortwo   70,000km                    6   benzin   \n",
       "4    manuell        0   focus  150,000km                    7   benzin   \n",
       "\n",
       "        brand notRepairedDamage          dateCreated  nrOfPictures  \\\n",
       "0     peugeot              nein  2016-03-26 00:00:00             0   \n",
       "1         bmw              nein  2016-04-04 00:00:00             0   \n",
       "2  volkswagen              nein  2016-03-26 00:00:00             0   \n",
       "3       smart              nein  2016-03-12 00:00:00             0   \n",
       "4        ford              nein  2016-04-01 00:00:00             0   \n",
       "\n",
       "   postalCode             lastSeen  \n",
       "0       79588  2016-04-06 06:45:54  \n",
       "1       71034  2016-04-06 14:45:08  \n",
       "2       35394  2016-04-06 20:15:37  \n",
       "3       33729  2016-03-15 03:16:28  \n",
       "4       39218  2016-04-01 14:38:50  "
      ]
     },
     "execution_count": 2,
     "metadata": {},
     "output_type": "execute_result"
    }
   ],
   "source": [
    "# Getting some basic information about the data set\n",
    "\n",
    "autos.info()\n",
    "autos.head()"
   ]
  },
  {
   "cell_type": "markdown",
   "metadata": {},
   "source": [
    "**Initial Observations**\n",
    "\n",
    "Looking at the information above, we see that the 'autos' dataframe does not have many null values.  Only five columns have missing values and the column with the greatest amount of null values (i.e. vehicleType) has approximately 10% of null values.  The columns are stored either as integers or strings.  There are also some columns (i.e. dateCrawled, lastSeen) that contain dates stroed as strings.  Also, there are columns (i.e. price, odometer) that expect numeric values but are treated as strings becuase the stored values contain both numeric and non-numeric charcters.  The columns also utilize a camelcase format as opposed to the Python-preferred snakecase format."
   ]
  },
  {
   "cell_type": "markdown",
   "metadata": {},
   "source": [
    "## Analyzing Columns"
   ]
  },
  {
   "cell_type": "code",
   "execution_count": 3,
   "metadata": {
    "collapsed": false
   },
   "outputs": [
    {
     "data": {
      "text/plain": [
       "Index(['dateCrawled', 'name', 'seller', 'offerType', 'price', 'abtest',\n",
       "       'vehicleType', 'yearOfRegistration', 'gearbox', 'powerPS', 'model',\n",
       "       'odometer', 'monthOfRegistration', 'fuelType', 'brand',\n",
       "       'notRepairedDamage', 'dateCreated', 'nrOfPictures', 'postalCode',\n",
       "       'lastSeen'],\n",
       "      dtype='object')"
      ]
     },
     "execution_count": 3,
     "metadata": {},
     "output_type": "execute_result"
    }
   ],
   "source": [
    "autos.columns"
   ]
  },
  {
   "cell_type": "markdown",
   "metadata": {},
   "source": [
    "We will clean the columns in the following ways:\n",
    "\n",
    "- Changing the format from camelcase to snake case, which involves lowercasing all letters and placing underscores between words\n",
    "\n",
    "We could use a \"for\" loop to make these changes, but since the number of columns is small, we will make these changes manually."
   ]
  },
  {
   "cell_type": "code",
   "execution_count": 4,
   "metadata": {
    "collapsed": false
   },
   "outputs": [
    {
     "data": {
      "text/plain": [
       "Index(['date_crawled', 'name', 'seller', 'offer_type', 'price', 'ab_test',\n",
       "       'vehicle_type', 'registration_year', 'gearbox', 'power_ps', 'model',\n",
       "       'odometer', 'registration_month', 'fuel_type', 'brand',\n",
       "       'unrepaired_damage', 'ad_created', 'num_of_pics', 'postal_code',\n",
       "       'last_seen'],\n",
       "      dtype='object')"
      ]
     },
     "execution_count": 4,
     "metadata": {},
     "output_type": "execute_result"
    }
   ],
   "source": [
    "autos.columns = ['date_crawled', 'name', 'seller', 'offer_type', 'price', 'ab_test',\n",
    "       'vehicle_type', 'registration_year', 'gearbox', 'power_ps', 'model',\n",
    "       'odometer', 'registration_month', 'fuel_type', 'brand',\n",
    "       'unrepaired_damage', 'ad_created', 'num_of_pics', 'postal_code',\n",
    "       'last_seen']\n",
    "\n",
    "autos.columns"
   ]
  },
  {
   "cell_type": "markdown",
   "metadata": {},
   "source": [
    "## Exploring The Data"
   ]
  },
  {
   "cell_type": "code",
   "execution_count": 5,
   "metadata": {
    "collapsed": false
   },
   "outputs": [
    {
     "data": {
      "text/html": [
       "<div>\n",
       "<style scoped>\n",
       "    .dataframe tbody tr th:only-of-type {\n",
       "        vertical-align: middle;\n",
       "    }\n",
       "\n",
       "    .dataframe tbody tr th {\n",
       "        vertical-align: top;\n",
       "    }\n",
       "\n",
       "    .dataframe thead th {\n",
       "        text-align: right;\n",
       "    }\n",
       "</style>\n",
       "<table border=\"1\" class=\"dataframe\">\n",
       "  <thead>\n",
       "    <tr style=\"text-align: right;\">\n",
       "      <th></th>\n",
       "      <th>date_crawled</th>\n",
       "      <th>name</th>\n",
       "      <th>seller</th>\n",
       "      <th>offer_type</th>\n",
       "      <th>price</th>\n",
       "      <th>ab_test</th>\n",
       "      <th>vehicle_type</th>\n",
       "      <th>registration_year</th>\n",
       "      <th>gearbox</th>\n",
       "      <th>power_ps</th>\n",
       "      <th>model</th>\n",
       "      <th>odometer</th>\n",
       "      <th>registration_month</th>\n",
       "      <th>fuel_type</th>\n",
       "      <th>brand</th>\n",
       "      <th>unrepaired_damage</th>\n",
       "      <th>ad_created</th>\n",
       "      <th>num_of_pics</th>\n",
       "      <th>postal_code</th>\n",
       "      <th>last_seen</th>\n",
       "    </tr>\n",
       "  </thead>\n",
       "  <tbody>\n",
       "    <tr>\n",
       "      <th>count</th>\n",
       "      <td>50000</td>\n",
       "      <td>50000</td>\n",
       "      <td>50000</td>\n",
       "      <td>50000</td>\n",
       "      <td>50000</td>\n",
       "      <td>50000</td>\n",
       "      <td>44905</td>\n",
       "      <td>50000.000000</td>\n",
       "      <td>47320</td>\n",
       "      <td>50000.000000</td>\n",
       "      <td>47242</td>\n",
       "      <td>50000</td>\n",
       "      <td>50000.000000</td>\n",
       "      <td>45518</td>\n",
       "      <td>50000</td>\n",
       "      <td>40171</td>\n",
       "      <td>50000</td>\n",
       "      <td>50000.0</td>\n",
       "      <td>50000.000000</td>\n",
       "      <td>50000</td>\n",
       "    </tr>\n",
       "    <tr>\n",
       "      <th>unique</th>\n",
       "      <td>48213</td>\n",
       "      <td>38754</td>\n",
       "      <td>2</td>\n",
       "      <td>2</td>\n",
       "      <td>2357</td>\n",
       "      <td>2</td>\n",
       "      <td>8</td>\n",
       "      <td>NaN</td>\n",
       "      <td>2</td>\n",
       "      <td>NaN</td>\n",
       "      <td>245</td>\n",
       "      <td>13</td>\n",
       "      <td>NaN</td>\n",
       "      <td>7</td>\n",
       "      <td>40</td>\n",
       "      <td>2</td>\n",
       "      <td>76</td>\n",
       "      <td>NaN</td>\n",
       "      <td>NaN</td>\n",
       "      <td>39481</td>\n",
       "    </tr>\n",
       "    <tr>\n",
       "      <th>top</th>\n",
       "      <td>2016-03-21 20:37:19</td>\n",
       "      <td>Ford_Fiesta</td>\n",
       "      <td>privat</td>\n",
       "      <td>Angebot</td>\n",
       "      <td>$0</td>\n",
       "      <td>test</td>\n",
       "      <td>limousine</td>\n",
       "      <td>NaN</td>\n",
       "      <td>manuell</td>\n",
       "      <td>NaN</td>\n",
       "      <td>golf</td>\n",
       "      <td>150,000km</td>\n",
       "      <td>NaN</td>\n",
       "      <td>benzin</td>\n",
       "      <td>volkswagen</td>\n",
       "      <td>nein</td>\n",
       "      <td>2016-04-03 00:00:00</td>\n",
       "      <td>NaN</td>\n",
       "      <td>NaN</td>\n",
       "      <td>2016-04-07 06:17:27</td>\n",
       "    </tr>\n",
       "    <tr>\n",
       "      <th>freq</th>\n",
       "      <td>3</td>\n",
       "      <td>78</td>\n",
       "      <td>49999</td>\n",
       "      <td>49999</td>\n",
       "      <td>1421</td>\n",
       "      <td>25756</td>\n",
       "      <td>12859</td>\n",
       "      <td>NaN</td>\n",
       "      <td>36993</td>\n",
       "      <td>NaN</td>\n",
       "      <td>4024</td>\n",
       "      <td>32424</td>\n",
       "      <td>NaN</td>\n",
       "      <td>30107</td>\n",
       "      <td>10687</td>\n",
       "      <td>35232</td>\n",
       "      <td>1946</td>\n",
       "      <td>NaN</td>\n",
       "      <td>NaN</td>\n",
       "      <td>8</td>\n",
       "    </tr>\n",
       "    <tr>\n",
       "      <th>mean</th>\n",
       "      <td>NaN</td>\n",
       "      <td>NaN</td>\n",
       "      <td>NaN</td>\n",
       "      <td>NaN</td>\n",
       "      <td>NaN</td>\n",
       "      <td>NaN</td>\n",
       "      <td>NaN</td>\n",
       "      <td>2005.073280</td>\n",
       "      <td>NaN</td>\n",
       "      <td>116.355920</td>\n",
       "      <td>NaN</td>\n",
       "      <td>NaN</td>\n",
       "      <td>5.723360</td>\n",
       "      <td>NaN</td>\n",
       "      <td>NaN</td>\n",
       "      <td>NaN</td>\n",
       "      <td>NaN</td>\n",
       "      <td>0.0</td>\n",
       "      <td>50813.627300</td>\n",
       "      <td>NaN</td>\n",
       "    </tr>\n",
       "    <tr>\n",
       "      <th>std</th>\n",
       "      <td>NaN</td>\n",
       "      <td>NaN</td>\n",
       "      <td>NaN</td>\n",
       "      <td>NaN</td>\n",
       "      <td>NaN</td>\n",
       "      <td>NaN</td>\n",
       "      <td>NaN</td>\n",
       "      <td>105.712813</td>\n",
       "      <td>NaN</td>\n",
       "      <td>209.216627</td>\n",
       "      <td>NaN</td>\n",
       "      <td>NaN</td>\n",
       "      <td>3.711984</td>\n",
       "      <td>NaN</td>\n",
       "      <td>NaN</td>\n",
       "      <td>NaN</td>\n",
       "      <td>NaN</td>\n",
       "      <td>0.0</td>\n",
       "      <td>25779.747957</td>\n",
       "      <td>NaN</td>\n",
       "    </tr>\n",
       "    <tr>\n",
       "      <th>min</th>\n",
       "      <td>NaN</td>\n",
       "      <td>NaN</td>\n",
       "      <td>NaN</td>\n",
       "      <td>NaN</td>\n",
       "      <td>NaN</td>\n",
       "      <td>NaN</td>\n",
       "      <td>NaN</td>\n",
       "      <td>1000.000000</td>\n",
       "      <td>NaN</td>\n",
       "      <td>0.000000</td>\n",
       "      <td>NaN</td>\n",
       "      <td>NaN</td>\n",
       "      <td>0.000000</td>\n",
       "      <td>NaN</td>\n",
       "      <td>NaN</td>\n",
       "      <td>NaN</td>\n",
       "      <td>NaN</td>\n",
       "      <td>0.0</td>\n",
       "      <td>1067.000000</td>\n",
       "      <td>NaN</td>\n",
       "    </tr>\n",
       "    <tr>\n",
       "      <th>25%</th>\n",
       "      <td>NaN</td>\n",
       "      <td>NaN</td>\n",
       "      <td>NaN</td>\n",
       "      <td>NaN</td>\n",
       "      <td>NaN</td>\n",
       "      <td>NaN</td>\n",
       "      <td>NaN</td>\n",
       "      <td>1999.000000</td>\n",
       "      <td>NaN</td>\n",
       "      <td>70.000000</td>\n",
       "      <td>NaN</td>\n",
       "      <td>NaN</td>\n",
       "      <td>3.000000</td>\n",
       "      <td>NaN</td>\n",
       "      <td>NaN</td>\n",
       "      <td>NaN</td>\n",
       "      <td>NaN</td>\n",
       "      <td>0.0</td>\n",
       "      <td>30451.000000</td>\n",
       "      <td>NaN</td>\n",
       "    </tr>\n",
       "    <tr>\n",
       "      <th>50%</th>\n",
       "      <td>NaN</td>\n",
       "      <td>NaN</td>\n",
       "      <td>NaN</td>\n",
       "      <td>NaN</td>\n",
       "      <td>NaN</td>\n",
       "      <td>NaN</td>\n",
       "      <td>NaN</td>\n",
       "      <td>2003.000000</td>\n",
       "      <td>NaN</td>\n",
       "      <td>105.000000</td>\n",
       "      <td>NaN</td>\n",
       "      <td>NaN</td>\n",
       "      <td>6.000000</td>\n",
       "      <td>NaN</td>\n",
       "      <td>NaN</td>\n",
       "      <td>NaN</td>\n",
       "      <td>NaN</td>\n",
       "      <td>0.0</td>\n",
       "      <td>49577.000000</td>\n",
       "      <td>NaN</td>\n",
       "    </tr>\n",
       "    <tr>\n",
       "      <th>75%</th>\n",
       "      <td>NaN</td>\n",
       "      <td>NaN</td>\n",
       "      <td>NaN</td>\n",
       "      <td>NaN</td>\n",
       "      <td>NaN</td>\n",
       "      <td>NaN</td>\n",
       "      <td>NaN</td>\n",
       "      <td>2008.000000</td>\n",
       "      <td>NaN</td>\n",
       "      <td>150.000000</td>\n",
       "      <td>NaN</td>\n",
       "      <td>NaN</td>\n",
       "      <td>9.000000</td>\n",
       "      <td>NaN</td>\n",
       "      <td>NaN</td>\n",
       "      <td>NaN</td>\n",
       "      <td>NaN</td>\n",
       "      <td>0.0</td>\n",
       "      <td>71540.000000</td>\n",
       "      <td>NaN</td>\n",
       "    </tr>\n",
       "    <tr>\n",
       "      <th>max</th>\n",
       "      <td>NaN</td>\n",
       "      <td>NaN</td>\n",
       "      <td>NaN</td>\n",
       "      <td>NaN</td>\n",
       "      <td>NaN</td>\n",
       "      <td>NaN</td>\n",
       "      <td>NaN</td>\n",
       "      <td>9999.000000</td>\n",
       "      <td>NaN</td>\n",
       "      <td>17700.000000</td>\n",
       "      <td>NaN</td>\n",
       "      <td>NaN</td>\n",
       "      <td>12.000000</td>\n",
       "      <td>NaN</td>\n",
       "      <td>NaN</td>\n",
       "      <td>NaN</td>\n",
       "      <td>NaN</td>\n",
       "      <td>0.0</td>\n",
       "      <td>99998.000000</td>\n",
       "      <td>NaN</td>\n",
       "    </tr>\n",
       "  </tbody>\n",
       "</table>\n",
       "</div>"
      ],
      "text/plain": [
       "               date_crawled         name  seller offer_type  price ab_test  \\\n",
       "count                 50000        50000   50000      50000  50000   50000   \n",
       "unique                48213        38754       2          2   2357       2   \n",
       "top     2016-03-21 20:37:19  Ford_Fiesta  privat    Angebot     $0    test   \n",
       "freq                      3           78   49999      49999   1421   25756   \n",
       "mean                    NaN          NaN     NaN        NaN    NaN     NaN   \n",
       "std                     NaN          NaN     NaN        NaN    NaN     NaN   \n",
       "min                     NaN          NaN     NaN        NaN    NaN     NaN   \n",
       "25%                     NaN          NaN     NaN        NaN    NaN     NaN   \n",
       "50%                     NaN          NaN     NaN        NaN    NaN     NaN   \n",
       "75%                     NaN          NaN     NaN        NaN    NaN     NaN   \n",
       "max                     NaN          NaN     NaN        NaN    NaN     NaN   \n",
       "\n",
       "       vehicle_type  registration_year  gearbox      power_ps  model  \\\n",
       "count         44905       50000.000000    47320  50000.000000  47242   \n",
       "unique            8                NaN        2           NaN    245   \n",
       "top       limousine                NaN  manuell           NaN   golf   \n",
       "freq          12859                NaN    36993           NaN   4024   \n",
       "mean            NaN        2005.073280      NaN    116.355920    NaN   \n",
       "std             NaN         105.712813      NaN    209.216627    NaN   \n",
       "min             NaN        1000.000000      NaN      0.000000    NaN   \n",
       "25%             NaN        1999.000000      NaN     70.000000    NaN   \n",
       "50%             NaN        2003.000000      NaN    105.000000    NaN   \n",
       "75%             NaN        2008.000000      NaN    150.000000    NaN   \n",
       "max             NaN        9999.000000      NaN  17700.000000    NaN   \n",
       "\n",
       "         odometer  registration_month fuel_type       brand unrepaired_damage  \\\n",
       "count       50000        50000.000000     45518       50000             40171   \n",
       "unique         13                 NaN         7          40                 2   \n",
       "top     150,000km                 NaN    benzin  volkswagen              nein   \n",
       "freq        32424                 NaN     30107       10687             35232   \n",
       "mean          NaN            5.723360       NaN         NaN               NaN   \n",
       "std           NaN            3.711984       NaN         NaN               NaN   \n",
       "min           NaN            0.000000       NaN         NaN               NaN   \n",
       "25%           NaN            3.000000       NaN         NaN               NaN   \n",
       "50%           NaN            6.000000       NaN         NaN               NaN   \n",
       "75%           NaN            9.000000       NaN         NaN               NaN   \n",
       "max           NaN           12.000000       NaN         NaN               NaN   \n",
       "\n",
       "                 ad_created  num_of_pics   postal_code            last_seen  \n",
       "count                 50000      50000.0  50000.000000                50000  \n",
       "unique                   76          NaN           NaN                39481  \n",
       "top     2016-04-03 00:00:00          NaN           NaN  2016-04-07 06:17:27  \n",
       "freq                   1946          NaN           NaN                    8  \n",
       "mean                    NaN          0.0  50813.627300                  NaN  \n",
       "std                     NaN          0.0  25779.747957                  NaN  \n",
       "min                     NaN          0.0   1067.000000                  NaN  \n",
       "25%                     NaN          0.0  30451.000000                  NaN  \n",
       "50%                     NaN          0.0  49577.000000                  NaN  \n",
       "75%                     NaN          0.0  71540.000000                  NaN  \n",
       "max                     NaN          0.0  99998.000000                  NaN  "
      ]
     },
     "execution_count": 5,
     "metadata": {},
     "output_type": "execute_result"
    }
   ],
   "source": [
    "autos.describe(include = \"all\")"
   ]
  },
  {
   "cell_type": "markdown",
   "metadata": {},
   "source": [
    "**Observations**\n",
    "\n",
    "- Columns \"seller\" and \"offer type\" have only two unique values with all but one entry having the same value.  Therefore, we can disregard these columns.\n",
    "- The \"num_of_pics\" column has data that populated with zeros.  We will delete this column since this data provides no value for analysis."
   ]
  },
  {
   "cell_type": "code",
   "execution_count": 6,
   "metadata": {
    "collapsed": false
   },
   "outputs": [
    {
     "data": {
      "text/plain": [
       "(50000, 17)"
      ]
     },
     "execution_count": 6,
     "metadata": {},
     "output_type": "execute_result"
    }
   ],
   "source": [
    "autos = autos.drop([\"seller\", \"offer_type\", \"num_of_pics\"], axis = 1)\n",
    "\n",
    "autos.shape #there are now 17 columns remaining from the original 20"
   ]
  },
  {
   "cell_type": "markdown",
   "metadata": {},
   "source": [
    "## Addressing Price and Odometer Columns\n",
    "\n",
    "These two columns should have numeric values, but instead they are treated as strings.  Let's see what these values look like:"
   ]
  },
  {
   "cell_type": "code",
   "execution_count": 7,
   "metadata": {
    "collapsed": false
   },
   "outputs": [
    {
     "name": "stdout",
     "output_type": "stream",
     "text": [
      "0    $5,000\n",
      "1    $8,500\n",
      "2    $8,990\n",
      "3    $4,350\n",
      "4    $1,350\n",
      "5    $7,900\n",
      "6      $300\n",
      "7    $1,990\n",
      "8      $250\n",
      "9      $590\n",
      "Name: price, dtype: object\n",
      "\n",
      "\n",
      "0    150,000km\n",
      "1    150,000km\n",
      "2     70,000km\n",
      "3     70,000km\n",
      "4    150,000km\n",
      "5    150,000km\n",
      "6    150,000km\n",
      "7    150,000km\n",
      "8    150,000km\n",
      "9    150,000km\n",
      "Name: odometer, dtype: object\n"
     ]
    }
   ],
   "source": [
    "print(autos[\"price\"].head(10))\n",
    "print(\"\\n\")\n",
    "print(autos[\"odometer\"].head(10))"
   ]
  },
  {
   "cell_type": "markdown",
   "metadata": {
    "collapsed": true
   },
   "source": [
    "After printing a few values in each column, we see that the non-numeric characters in \"price\" are \"$\" and \",\".  For the \"odometer\" column, these characters are \",\" and \"km\".  We will clean the data by removing these characters, change the value type from \"str\" to \"float\", and re-labeling the columns to include these units of measurement."
   ]
  },
  {
   "cell_type": "code",
   "execution_count": 8,
   "metadata": {
    "collapsed": false
   },
   "outputs": [],
   "source": [
    "#Cleaning the \"price\" column\n",
    "autos[\"price\"] = autos[\"price\"].str.replace(\"$\", \"\").str.replace(\",\", \"\").astype(int)\n",
    "\n",
    "#Cleaning the \"odometer\" column\n",
    "autos[\"odometer\"] = autos[\"odometer\"].str.replace(\",\", \"\").str.replace(\"km\", \"\").astype(int)\n",
    "\n",
    "#Renaming these columns to reference units of measurement\n",
    "autos.rename({\"price\" : \"price_dollar\", \"odometer\" : \"odometer_km\"}, axis = 1, inplace = True)\n"
   ]
  },
  {
   "cell_type": "code",
   "execution_count": 9,
   "metadata": {
    "collapsed": false
   },
   "outputs": [
    {
     "data": {
      "text/html": [
       "<div>\n",
       "<style scoped>\n",
       "    .dataframe tbody tr th:only-of-type {\n",
       "        vertical-align: middle;\n",
       "    }\n",
       "\n",
       "    .dataframe tbody tr th {\n",
       "        vertical-align: top;\n",
       "    }\n",
       "\n",
       "    .dataframe thead th {\n",
       "        text-align: right;\n",
       "    }\n",
       "</style>\n",
       "<table border=\"1\" class=\"dataframe\">\n",
       "  <thead>\n",
       "    <tr style=\"text-align: right;\">\n",
       "      <th></th>\n",
       "      <th>price_dollar</th>\n",
       "      <th>odometer_km</th>\n",
       "    </tr>\n",
       "  </thead>\n",
       "  <tbody>\n",
       "    <tr>\n",
       "      <th>0</th>\n",
       "      <td>5000</td>\n",
       "      <td>150000</td>\n",
       "    </tr>\n",
       "    <tr>\n",
       "      <th>1</th>\n",
       "      <td>8500</td>\n",
       "      <td>150000</td>\n",
       "    </tr>\n",
       "    <tr>\n",
       "      <th>2</th>\n",
       "      <td>8990</td>\n",
       "      <td>70000</td>\n",
       "    </tr>\n",
       "  </tbody>\n",
       "</table>\n",
       "</div>"
      ],
      "text/plain": [
       "   price_dollar  odometer_km\n",
       "0          5000       150000\n",
       "1          8500       150000\n",
       "2          8990        70000"
      ]
     },
     "execution_count": 9,
     "metadata": {},
     "output_type": "execute_result"
    }
   ],
   "source": [
    "autos[[\"price_dollar\", \"odometer_km\"]][:3]"
   ]
  },
  {
   "cell_type": "markdown",
   "metadata": {},
   "source": [
    "As we look at the first few rows of our manipulated data, we see that our changes have been applied correctly."
   ]
  },
  {
   "cell_type": "code",
   "execution_count": 10,
   "metadata": {
    "collapsed": false
   },
   "outputs": [
    {
     "data": {
      "text/html": [
       "<div>\n",
       "<style scoped>\n",
       "    .dataframe tbody tr th:only-of-type {\n",
       "        vertical-align: middle;\n",
       "    }\n",
       "\n",
       "    .dataframe tbody tr th {\n",
       "        vertical-align: top;\n",
       "    }\n",
       "\n",
       "    .dataframe thead th {\n",
       "        text-align: right;\n",
       "    }\n",
       "</style>\n",
       "<table border=\"1\" class=\"dataframe\">\n",
       "  <thead>\n",
       "    <tr style=\"text-align: right;\">\n",
       "      <th></th>\n",
       "      <th>price_dollar</th>\n",
       "      <th>odometer_km</th>\n",
       "    </tr>\n",
       "  </thead>\n",
       "  <tbody>\n",
       "    <tr>\n",
       "      <th>count</th>\n",
       "      <td>5.000000e+04</td>\n",
       "      <td>50000.000000</td>\n",
       "    </tr>\n",
       "    <tr>\n",
       "      <th>mean</th>\n",
       "      <td>9.840044e+03</td>\n",
       "      <td>125732.700000</td>\n",
       "    </tr>\n",
       "    <tr>\n",
       "      <th>std</th>\n",
       "      <td>4.811044e+05</td>\n",
       "      <td>40042.211706</td>\n",
       "    </tr>\n",
       "    <tr>\n",
       "      <th>min</th>\n",
       "      <td>0.000000e+00</td>\n",
       "      <td>5000.000000</td>\n",
       "    </tr>\n",
       "    <tr>\n",
       "      <th>25%</th>\n",
       "      <td>1.100000e+03</td>\n",
       "      <td>125000.000000</td>\n",
       "    </tr>\n",
       "    <tr>\n",
       "      <th>50%</th>\n",
       "      <td>2.950000e+03</td>\n",
       "      <td>150000.000000</td>\n",
       "    </tr>\n",
       "    <tr>\n",
       "      <th>75%</th>\n",
       "      <td>7.200000e+03</td>\n",
       "      <td>150000.000000</td>\n",
       "    </tr>\n",
       "    <tr>\n",
       "      <th>max</th>\n",
       "      <td>1.000000e+08</td>\n",
       "      <td>150000.000000</td>\n",
       "    </tr>\n",
       "  </tbody>\n",
       "</table>\n",
       "</div>"
      ],
      "text/plain": [
       "       price_dollar    odometer_km\n",
       "count  5.000000e+04   50000.000000\n",
       "mean   9.840044e+03  125732.700000\n",
       "std    4.811044e+05   40042.211706\n",
       "min    0.000000e+00    5000.000000\n",
       "25%    1.100000e+03  125000.000000\n",
       "50%    2.950000e+03  150000.000000\n",
       "75%    7.200000e+03  150000.000000\n",
       "max    1.000000e+08  150000.000000"
      ]
     },
     "execution_count": 10,
     "metadata": {},
     "output_type": "execute_result"
    }
   ],
   "source": [
    "autos[[\"price_dollar\", \"odometer_km\"]].describe()"
   ]
  },
  {
   "cell_type": "markdown",
   "metadata": {},
   "source": [
    "In addition, all the values in these columns do not contains any NaN values in the initial autos.describe() method that was called above.  Changing the values from strings to numbers caused this result."
   ]
  },
  {
   "cell_type": "code",
   "execution_count": 11,
   "metadata": {
    "collapsed": false
   },
   "outputs": [
    {
     "data": {
      "text/plain": [
       "150000    32424\n",
       "125000     5170\n",
       "100000     2169\n",
       "90000      1757\n",
       "80000      1436\n",
       "70000      1230\n",
       "60000      1164\n",
       "50000      1027\n",
       "5000        967\n",
       "40000       819\n",
       "30000       789\n",
       "20000       784\n",
       "10000       264\n",
       "Name: odometer_km, dtype: int64"
      ]
     },
     "execution_count": 11,
     "metadata": {},
     "output_type": "execute_result"
    }
   ],
   "source": [
    "autos[\"odometer_km\"].value_counts()"
   ]
  },
  {
   "cell_type": "markdown",
   "metadata": {},
   "source": [
    "**Observation:** All odometer readings are rounded to the thousands place.  It seems that when these cars were put up for sale, odometer readings could only be selected for a specific range and not the exact value."
   ]
  },
  {
   "cell_type": "code",
   "execution_count": 12,
   "metadata": {
    "collapsed": false
   },
   "outputs": [
    {
     "data": {
      "text/plain": [
       "0     1421\n",
       "1      156\n",
       "2        3\n",
       "3        1\n",
       "5        2\n",
       "8        1\n",
       "9        1\n",
       "10       7\n",
       "11       2\n",
       "12       3\n",
       "13       2\n",
       "14       1\n",
       "15       2\n",
       "17       3\n",
       "18       1\n",
       "20       4\n",
       "25       5\n",
       "29       1\n",
       "30       7\n",
       "35       1\n",
       "40       6\n",
       "45       4\n",
       "47       1\n",
       "49       4\n",
       "50      49\n",
       "55       2\n",
       "59       1\n",
       "60       9\n",
       "65       5\n",
       "66       1\n",
       "Name: price_dollar, dtype: int64"
      ]
     },
     "execution_count": 12,
     "metadata": {},
     "output_type": "execute_result"
    }
   ],
   "source": [
    "autos[\"price_dollar\"].value_counts().sort_index().head(30)"
   ]
  },
  {
   "cell_type": "markdown",
   "metadata": {},
   "source": [
    "There are plenty of listings for cars under \\$100 and even 1,400+ listings of \\$0.  We will delete all the listings for \\$0 because no person would be selling a car for this amount.  We will cautiously keep all the other low values because there can be car listings as low as $1."
   ]
  },
  {
   "cell_type": "code",
   "execution_count": 13,
   "metadata": {
    "collapsed": false
   },
   "outputs": [
    {
     "data": {
      "text/plain": [
       "99999999    1\n",
       "27322222    1\n",
       "12345678    3\n",
       "11111111    2\n",
       "10000000    1\n",
       "3890000     1\n",
       "1300000     1\n",
       "1234566     1\n",
       "999999      2\n",
       "999990      1\n",
       "350000      1\n",
       "345000      1\n",
       "299000      1\n",
       "295000      1\n",
       "265000      1\n",
       "259000      1\n",
       "250000      1\n",
       "220000      1\n",
       "198000      1\n",
       "197000      1\n",
       "194000      1\n",
       "190000      1\n",
       "180000      1\n",
       "175000      1\n",
       "169999      1\n",
       "169000      1\n",
       "163991      1\n",
       "163500      1\n",
       "155000      1\n",
       "151990      1\n",
       "Name: price_dollar, dtype: int64"
      ]
     },
     "execution_count": 13,
     "metadata": {},
     "output_type": "execute_result"
    }
   ],
   "source": [
    "autos[\"price_dollar\"].value_counts().sort_index(ascending = False).head(30)"
   ]
  },
  {
   "cell_type": "markdown",
   "metadata": {},
   "source": [
    "Looking at the highest price cars, we see there is a big jump from \\$389,000 to the next price of \\$999,990.  Although there are  cars worth more than $1 million in the data, we will be remove all cars with prices greater than \\$389,000 because they are outliers. "
   ]
  },
  {
   "cell_type": "code",
   "execution_count": 14,
   "metadata": {
    "collapsed": false
   },
   "outputs": [
    {
     "data": {
      "text/plain": [
       "count     48565.000000\n",
       "mean       5888.935591\n",
       "std        9059.854754\n",
       "min           1.000000\n",
       "25%        1200.000000\n",
       "50%        3000.000000\n",
       "75%        7490.000000\n",
       "max      350000.000000\n",
       "Name: price_dollar, dtype: float64"
      ]
     },
     "execution_count": 14,
     "metadata": {},
     "output_type": "execute_result"
    }
   ],
   "source": [
    "# Removing rows with price values = $0 or greater than $389,000\n",
    "autos = autos[autos[\"price_dollar\"].between(1, 389000)]\n",
    "\n",
    "autos[\"price_dollar\"].describe()"
   ]
  },
  {
   "cell_type": "markdown",
   "metadata": {},
   "source": [
    "**Observation: ** We have removed approximately 1,500 rows and the mean has decreased by about \\$4,000."
   ]
  },
  {
   "cell_type": "markdown",
   "metadata": {},
   "source": [
    "## Analyzing Date Columns"
   ]
  },
  {
   "cell_type": "markdown",
   "metadata": {},
   "source": [
    "These are the following columns that store date/time information:\n",
    "\n",
    "- `date_crawled` (stored as a string) \n",
    "\n",
    "\n",
    "- `registration_year` (stored as an int)\n",
    "\n",
    "\n",
    "- `registration_month` (stored as an int)\n",
    "\n",
    "\n",
    "- `ad_created` (stored as a string)\n",
    "\n",
    "\n",
    "- `last_seen` (stored as a string)\n",
    "\n",
    "We will look at each of these columns more in depth."
   ]
  },
  {
   "cell_type": "code",
   "execution_count": 15,
   "metadata": {
    "collapsed": false
   },
   "outputs": [
    {
     "data": {
      "text/html": [
       "<div>\n",
       "<style scoped>\n",
       "    .dataframe tbody tr th:only-of-type {\n",
       "        vertical-align: middle;\n",
       "    }\n",
       "\n",
       "    .dataframe tbody tr th {\n",
       "        vertical-align: top;\n",
       "    }\n",
       "\n",
       "    .dataframe thead th {\n",
       "        text-align: right;\n",
       "    }\n",
       "</style>\n",
       "<table border=\"1\" class=\"dataframe\">\n",
       "  <thead>\n",
       "    <tr style=\"text-align: right;\">\n",
       "      <th></th>\n",
       "      <th>date_crawled</th>\n",
       "      <th>ad_created</th>\n",
       "      <th>last_seen</th>\n",
       "    </tr>\n",
       "  </thead>\n",
       "  <tbody>\n",
       "    <tr>\n",
       "      <th>0</th>\n",
       "      <td>2016-03-26 17:47:46</td>\n",
       "      <td>2016-03-26 00:00:00</td>\n",
       "      <td>2016-04-06 06:45:54</td>\n",
       "    </tr>\n",
       "    <tr>\n",
       "      <th>1</th>\n",
       "      <td>2016-04-04 13:38:56</td>\n",
       "      <td>2016-04-04 00:00:00</td>\n",
       "      <td>2016-04-06 14:45:08</td>\n",
       "    </tr>\n",
       "    <tr>\n",
       "      <th>2</th>\n",
       "      <td>2016-03-26 18:57:24</td>\n",
       "      <td>2016-03-26 00:00:00</td>\n",
       "      <td>2016-04-06 20:15:37</td>\n",
       "    </tr>\n",
       "  </tbody>\n",
       "</table>\n",
       "</div>"
      ],
      "text/plain": [
       "          date_crawled           ad_created            last_seen\n",
       "0  2016-03-26 17:47:46  2016-03-26 00:00:00  2016-04-06 06:45:54\n",
       "1  2016-04-04 13:38:56  2016-04-04 00:00:00  2016-04-06 14:45:08\n",
       "2  2016-03-26 18:57:24  2016-03-26 00:00:00  2016-04-06 20:15:37"
      ]
     },
     "execution_count": 15,
     "metadata": {},
     "output_type": "execute_result"
    }
   ],
   "source": [
    "# Analyzing date columns stored as strings\n",
    "autos[[\"date_crawled\", \"ad_created\", \"last_seen\"]][:3]"
   ]
  },
  {
   "cell_type": "markdown",
   "metadata": {},
   "source": [
    "Looking at the firs three rows, each column stores the date in two parts: \n",
    "\n",
    "1. Creation date\n",
    "2. Time of creation\n",
    "\n",
    "Upone further inspection, we see that the \"creation date\" portion is composed of a string with 10 characters.  We will analyze each column by counting how many times each string is found in the data."
   ]
  },
  {
   "cell_type": "code",
   "execution_count": 16,
   "metadata": {
    "collapsed": false
   },
   "outputs": [
    {
     "data": {
      "text/plain": [
       "2016-03-05    1230\n",
       "2016-03-06     682\n",
       "2016-03-07    1749\n",
       "2016-03-08    1617\n",
       "2016-03-09    1607\n",
       "2016-03-10    1563\n",
       "2016-03-11    1582\n",
       "2016-03-12    1793\n",
       "2016-03-13     761\n",
       "2016-03-14    1775\n",
       "2016-03-15    1665\n",
       "2016-03-16    1438\n",
       "2016-03-17    1536\n",
       "2016-03-18     627\n",
       "2016-03-19    1689\n",
       "2016-03-20    1840\n",
       "2016-03-21    1815\n",
       "2016-03-22    1602\n",
       "2016-03-23    1565\n",
       "2016-03-24    1425\n",
       "2016-03-25    1535\n",
       "2016-03-26    1564\n",
       "2016-03-27    1510\n",
       "2016-03-28    1693\n",
       "2016-03-29    1656\n",
       "2016-03-30    1636\n",
       "2016-03-31    1546\n",
       "2016-04-01    1636\n",
       "2016-04-02    1723\n",
       "2016-04-03    1875\n",
       "2016-04-04    1772\n",
       "2016-04-05     636\n",
       "2016-04-06     154\n",
       "2016-04-07      68\n",
       "Name: date_crawled, dtype: int64"
      ]
     },
     "execution_count": 16,
     "metadata": {},
     "output_type": "execute_result"
    }
   ],
   "source": [
    "autos[\"date_crawled\"].str[:10].value_counts().sort_index()"
   ]
  },
  {
   "cell_type": "markdown",
   "metadata": {},
   "source": [
    "**Observation:** The website was crawled daily on a 35-day period between March 2016 and April 2016.  Except for a few observations, the distribution of traffic on every day is roughly uniform.  "
   ]
  },
  {
   "cell_type": "code",
   "execution_count": 17,
   "metadata": {
    "collapsed": false
   },
   "outputs": [
    {
     "data": {
      "text/plain": [
       "(76,)"
      ]
     },
     "execution_count": 17,
     "metadata": {},
     "output_type": "execute_result"
    }
   ],
   "source": [
    "autos[\"ad_created\"].str[:10].value_counts().shape"
   ]
  },
  {
   "cell_type": "code",
   "execution_count": 18,
   "metadata": {
    "collapsed": false
   },
   "outputs": [
    {
     "data": {
      "text/plain": [
       "2015-06-11     1\n",
       "2015-08-10     1\n",
       "2015-09-09     1\n",
       "2015-11-10     1\n",
       "2015-12-05     1\n",
       "2015-12-30     1\n",
       "2016-01-03     1\n",
       "2016-01-07     1\n",
       "2016-01-10     2\n",
       "2016-01-13     1\n",
       "2016-01-14     1\n",
       "2016-01-16     1\n",
       "2016-01-22     1\n",
       "2016-01-27     3\n",
       "2016-01-29     1\n",
       "2016-02-01     1\n",
       "2016-02-02     2\n",
       "2016-02-05     2\n",
       "2016-02-07     1\n",
       "2016-02-08     1\n",
       "2016-02-09     1\n",
       "2016-02-11     1\n",
       "2016-02-12     2\n",
       "2016-02-14     2\n",
       "2016-02-16     1\n",
       "2016-02-17     1\n",
       "2016-02-18     2\n",
       "2016-02-19     3\n",
       "2016-02-20     2\n",
       "2016-02-21     3\n",
       "2016-02-22     1\n",
       "2016-02-23     4\n",
       "2016-02-24     2\n",
       "2016-02-25     3\n",
       "2016-02-26     2\n",
       "2016-02-27     6\n",
       "2016-02-28    10\n",
       "2016-02-29     8\n",
       "2016-03-01     5\n",
       "2016-03-02     5\n",
       "Name: ad_created, dtype: int64"
      ]
     },
     "execution_count": 18,
     "metadata": {},
     "output_type": "execute_result"
    }
   ],
   "source": [
    "# We see that there are 76 unique entries in ad_created.  Let's display all instances:\n",
    "\n",
    "autos[\"ad_created\"].str[:10].value_counts().sort_index()[:40]"
   ]
  },
  {
   "cell_type": "code",
   "execution_count": 19,
   "metadata": {
    "collapsed": false
   },
   "outputs": [
    {
     "data": {
      "text/plain": [
       "2016-03-03      42\n",
       "2016-03-04      72\n",
       "2016-03-05    1112\n",
       "2016-03-06     744\n",
       "2016-03-07    1687\n",
       "2016-03-08    1618\n",
       "2016-03-09    1610\n",
       "2016-03-10    1549\n",
       "2016-03-11    1598\n",
       "2016-03-12    1785\n",
       "2016-03-13     826\n",
       "2016-03-14    1709\n",
       "2016-03-15    1652\n",
       "2016-03-16    1463\n",
       "2016-03-17    1519\n",
       "2016-03-18     660\n",
       "2016-03-19    1636\n",
       "2016-03-20    1843\n",
       "2016-03-21    1825\n",
       "2016-03-22    1593\n",
       "2016-03-23    1557\n",
       "2016-03-24    1422\n",
       "2016-03-25    1542\n",
       "2016-03-26    1567\n",
       "2016-03-27    1505\n",
       "2016-03-28    1699\n",
       "2016-03-29    1653\n",
       "2016-03-30    1627\n",
       "2016-03-31    1548\n",
       "2016-04-01    1636\n",
       "2016-04-02    1707\n",
       "2016-04-03    1887\n",
       "2016-04-04    1790\n",
       "2016-04-05     574\n",
       "2016-04-06     158\n",
       "2016-04-07      61\n",
       "Name: ad_created, dtype: int64"
      ]
     },
     "execution_count": 19,
     "metadata": {},
     "output_type": "execute_result"
    }
   ],
   "source": [
    "autos[\"ad_created\"].str[:10].value_counts().sort_index()[40:76]"
   ]
  },
  {
   "cell_type": "markdown",
   "metadata": {},
   "source": [
    "**Observation:** Ads were created between June 2015 and April 2016 (roughly a 10 month period).  A majority of ads were created between March 2016 and April 2016"
   ]
  },
  {
   "cell_type": "code",
   "execution_count": 20,
   "metadata": {
    "collapsed": false
   },
   "outputs": [
    {
     "name": "stdout",
     "output_type": "stream",
     "text": [
      "2016-03-05       52\n",
      "2016-03-06      210\n",
      "2016-03-07      262\n",
      "2016-03-08      360\n",
      "2016-03-09      466\n",
      "2016-03-10      518\n",
      "2016-03-11      601\n",
      "2016-03-12     1155\n",
      "2016-03-13      432\n",
      "2016-03-14      612\n",
      "2016-03-15      771\n",
      "2016-03-16      799\n",
      "2016-03-17     1364\n",
      "2016-03-18      357\n",
      "2016-03-19      769\n",
      "2016-03-20     1003\n",
      "2016-03-21     1002\n",
      "2016-03-22     1038\n",
      "2016-03-23      900\n",
      "2016-03-24      960\n",
      "2016-03-25      933\n",
      "2016-03-26      816\n",
      "2016-03-27      760\n",
      "2016-03-28     1013\n",
      "2016-03-29     1085\n",
      "2016-03-30     1203\n",
      "2016-03-31     1155\n",
      "2016-04-01     1107\n",
      "2016-04-02     1210\n",
      "2016-04-03     1224\n",
      "2016-04-04     1189\n",
      "2016-04-05     6059\n",
      "2016-04-06    10772\n",
      "2016-04-07     6408\n",
      "Name: last_seen, dtype: int64\n",
      "\n",
      "\n",
      "2016-03-05    0.001071\n",
      "2016-03-06    0.004324\n",
      "2016-03-07    0.005395\n",
      "2016-03-08    0.007413\n",
      "2016-03-09    0.009595\n",
      "2016-03-10    0.010666\n",
      "2016-03-11    0.012375\n",
      "2016-03-12    0.023783\n",
      "2016-03-13    0.008895\n",
      "2016-03-14    0.012602\n",
      "2016-03-15    0.015876\n",
      "2016-03-16    0.016452\n",
      "2016-03-17    0.028086\n",
      "2016-03-18    0.007351\n",
      "2016-03-19    0.015834\n",
      "2016-03-20    0.020653\n",
      "2016-03-21    0.020632\n",
      "2016-03-22    0.021373\n",
      "2016-03-23    0.018532\n",
      "2016-03-24    0.019767\n",
      "2016-03-25    0.019211\n",
      "2016-03-26    0.016802\n",
      "2016-03-27    0.015649\n",
      "2016-03-28    0.020859\n",
      "2016-03-29    0.022341\n",
      "2016-03-30    0.024771\n",
      "2016-03-31    0.023783\n",
      "2016-04-01    0.022794\n",
      "2016-04-02    0.024915\n",
      "2016-04-03    0.025203\n",
      "2016-04-04    0.024483\n",
      "2016-04-05    0.124761\n",
      "2016-04-06    0.221806\n",
      "2016-04-07    0.131947\n",
      "Name: last_seen, dtype: float64\n"
     ]
    }
   ],
   "source": [
    "print(autos[\"last_seen\"].str[:10].value_counts().sort_index())\n",
    "print(\"\\n\")\n",
    "print(autos[\"last_seen\"].str[:10].value_counts(normalize = True, dropna = False).sort_index())"
   ]
  },
  {
   "cell_type": "markdown",
   "metadata": {},
   "source": [
    "**Observations:**  Looking at \"last_seen\", 50% of ads were last seen within the past three days.  This does not necessarily mean that a majority of cars were sold on these days.  This illusrtates that ads are currently being looked at regular intervals."
   ]
  },
  {
   "cell_type": "code",
   "execution_count": 21,
   "metadata": {
    "collapsed": false
   },
   "outputs": [
    {
     "name": "stdout",
     "output_type": "stream",
     "text": [
      "3     5003\n",
      "0     4480\n",
      "6     4271\n",
      "4     4036\n",
      "5     4031\n",
      "7     3857\n",
      "10    3588\n",
      "12    3374\n",
      "9     3330\n",
      "11    3313\n",
      "1     3219\n",
      "8     3126\n",
      "2     2937\n",
      "Name: registration_month, dtype: int64\n",
      "\n",
      "\n",
      "count    48565.000000\n",
      "mean      2004.755421\n",
      "std         88.643887\n",
      "min       1000.000000\n",
      "25%       1999.000000\n",
      "50%       2004.000000\n",
      "75%       2008.000000\n",
      "max       9999.000000\n",
      "Name: registration_year, dtype: float64\n"
     ]
    }
   ],
   "source": [
    "print(autos[\"registration_month\"].value_counts())\n",
    "print(\"\\n\")\n",
    "print(autos[\"registration_year\"].describe())"
   ]
  },
  {
   "cell_type": "markdown",
   "metadata": {},
   "source": [
    "**Observations:**\n",
    "- For \"registration_month\", we expect 12 unique values but instead we see 13 (month 0 is the 13th).  Although there are 4,480 instances of month 0, we will not remove these values because doing so would remove 10% of the total rows.  We will just make a note about this anomaly.\n",
    "\n",
    "\n",
    "- For \"registration_year\", the min value is 1000 an the max value is 9999.  Cars were not made until the 20th century, so cars with registration values before 1900 do not make sense.  Additionally, we are looking at cars made on or before 2016.  Therefore, registration years above 2016 do not make sense either. "
   ]
  },
  {
   "cell_type": "markdown",
   "metadata": {},
   "source": [
    "## Dealing with Incorrect Registration Year Data"
   ]
  },
  {
   "cell_type": "markdown",
   "metadata": {},
   "source": [
    "We need to determine how many rows contain cars registered out of the scope described above.  For simplicity sake, we will use 1900 as the \"base year\" for registration because this was around the time that cars were being mass produced.  If we wanted to dive into the data further, we could look at each individual model of car and see when they were first produced.  We could compare these years with the registration year and see if there are any anomalies.\n",
    "\n",
    "- For example, the Volkswagen Golf 3.16 was first manufactured in 1974.  If there are registration years before 1974 for this model car, then this data would be invalid.\n",
    "\n",
    "Let's first count the how many rows fall outside our scope for \"registration_year\":"
   ]
  },
  {
   "cell_type": "code",
   "execution_count": 22,
   "metadata": {
    "collapsed": false
   },
   "outputs": [
    {
     "data": {
      "text/plain": [
       "1884"
      ]
     },
     "execution_count": 22,
     "metadata": {},
     "output_type": "execute_result"
    }
   ],
   "source": [
    "# Calculting the number of rows where registration year is before 1900 and after 2016\n",
    "(~autos[\"registration_year\"].between(1900, 2016)).sum()"
   ]
  },
  {
   "cell_type": "markdown",
   "metadata": {},
   "source": [
    "There are 1884 rows that fall outside the scope we want, which represents (1884/48565) or about 4% of the rows.  Since this is a small percentage, we will remove these rows."
   ]
  },
  {
   "cell_type": "code",
   "execution_count": 23,
   "metadata": {
    "collapsed": false
   },
   "outputs": [
    {
     "data": {
      "text/plain": [
       "count    46681.000000\n",
       "mean      2002.910756\n",
       "std          7.185103\n",
       "min       1910.000000\n",
       "25%       1999.000000\n",
       "50%       2003.000000\n",
       "75%       2008.000000\n",
       "max       2016.000000\n",
       "Name: registration_year, dtype: float64"
      ]
     },
     "execution_count": 23,
     "metadata": {},
     "output_type": "execute_result"
    }
   ],
   "source": [
    "autos = autos[autos[\"registration_year\"].between(1900, 2016)]\n",
    "\n",
    "#Checking to see if rows have been removed\n",
    "autos[\"registration_year\"].describe()"
   ]
  },
  {
   "cell_type": "code",
   "execution_count": 24,
   "metadata": {
    "collapsed": false
   },
   "outputs": [
    {
     "data": {
      "text/plain": [
       "2016    1220\n",
       "2015     392\n",
       "2014     663\n",
       "2013     803\n",
       "2012    1310\n",
       "2011    1623\n",
       "2010    1589\n",
       "2009    2085\n",
       "2008    2215\n",
       "2007    2277\n",
       "2006    2670\n",
       "2005    2936\n",
       "2004    2703\n",
       "2003    2699\n",
       "2002    2486\n",
       "2001    2636\n",
       "2000    3156\n",
       "1999    2897\n",
       "1998    2363\n",
       "1997    1951\n",
       "1996    1373\n",
       "1995    1227\n",
       "1994     629\n",
       "1993     425\n",
       "1992     370\n",
       "1991     339\n",
       "1990     347\n",
       "1989     174\n",
       "1988     135\n",
       "1987      72\n",
       "        ... \n",
       "1968      26\n",
       "1967      26\n",
       "1966      22\n",
       "1965      17\n",
       "1964      12\n",
       "1963       8\n",
       "1962       4\n",
       "1961       6\n",
       "1960      23\n",
       "1959       6\n",
       "1958       4\n",
       "1957       2\n",
       "1956       4\n",
       "1955       2\n",
       "1954       2\n",
       "1953       1\n",
       "1952       1\n",
       "1951       2\n",
       "1950       3\n",
       "1948       1\n",
       "1943       1\n",
       "1941       2\n",
       "1939       1\n",
       "1938       1\n",
       "1937       4\n",
       "1934       2\n",
       "1931       1\n",
       "1929       1\n",
       "1927       1\n",
       "1910       5\n",
       "Name: registration_year, Length: 78, dtype: int64"
      ]
     },
     "execution_count": 24,
     "metadata": {},
     "output_type": "execute_result"
    }
   ],
   "source": [
    "autos[\"registration_year\"].value_counts().sort_index(ascending = False)"
   ]
  },
  {
   "cell_type": "markdown",
   "metadata": {},
   "source": [
    "**Observation:** Most of the cars were registered between 1990 and 2016."
   ]
  },
  {
   "cell_type": "markdown",
   "metadata": {
    "collapsed": true
   },
   "source": [
    "## Exploring Price by Barnd"
   ]
  },
  {
   "cell_type": "code",
   "execution_count": 25,
   "metadata": {
    "collapsed": false
   },
   "outputs": [
    {
     "data": {
      "text/plain": [
       "count          46681\n",
       "unique            40\n",
       "top       volkswagen\n",
       "freq            9862\n",
       "Name: brand, dtype: object"
      ]
     },
     "execution_count": 25,
     "metadata": {},
     "output_type": "execute_result"
    }
   ],
   "source": [
    "autos[\"brand\"].describe()"
   ]
  },
  {
   "cell_type": "code",
   "execution_count": 26,
   "metadata": {
    "collapsed": false
   },
   "outputs": [
    {
     "data": {
      "text/plain": [
       "volkswagen        0.211264\n",
       "bmw               0.110045\n",
       "opel              0.107581\n",
       "mercedes_benz     0.096463\n",
       "audi              0.086566\n",
       "ford              0.069900\n",
       "renault           0.047150\n",
       "peugeot           0.029841\n",
       "fiat              0.025642\n",
       "seat              0.018273\n",
       "skoda             0.016409\n",
       "nissan            0.015274\n",
       "mazda             0.015188\n",
       "smart             0.014160\n",
       "citroen           0.014010\n",
       "toyota            0.012703\n",
       "hyundai           0.010025\n",
       "sonstige_autos    0.009811\n",
       "volvo             0.009147\n",
       "mini              0.008762\n",
       "mitsubishi        0.008226\n",
       "honda             0.007840\n",
       "kia               0.007069\n",
       "alfa_romeo        0.006641\n",
       "porsche           0.006127\n",
       "suzuki            0.005934\n",
       "chevrolet         0.005698\n",
       "chrysler          0.003513\n",
       "dacia             0.002635\n",
       "daihatsu          0.002506\n",
       "jeep              0.002271\n",
       "subaru            0.002142\n",
       "land_rover        0.002099\n",
       "saab              0.001649\n",
       "jaguar            0.001564\n",
       "daewoo            0.001500\n",
       "trabant           0.001392\n",
       "rover             0.001328\n",
       "lancia            0.001071\n",
       "lada              0.000578\n",
       "Name: brand, dtype: float64"
      ]
     },
     "execution_count": 26,
     "metadata": {},
     "output_type": "execute_result"
    }
   ],
   "source": [
    "autos[\"brand\"].value_counts(normalize = True)"
   ]
  },
  {
   "cell_type": "markdown",
   "metadata": {},
   "source": [
    "There are 40 brands in our data, but 31 of them constitute less than 2% of the total values.  We will concentrate our analysis on the remaining 9 brands.  From observation, Volkswagen has the highest percentage of listings (21%) and the top 4 brands (Volkswagen, BMW, Opel, Mercedes_Benz) represent more than 50% of the listings.  "
   ]
  },
  {
   "cell_type": "code",
   "execution_count": 27,
   "metadata": {
    "collapsed": false,
    "scrolled": true
   },
   "outputs": [
    {
     "name": "stdout",
     "output_type": "stream",
     "text": [
      "Index(['volkswagen', 'bmw', 'opel', 'mercedes_benz', 'audi', 'ford', 'renault',\n",
      "       'peugeot', 'fiat'],\n",
      "      dtype='object')\n"
     ]
    }
   ],
   "source": [
    "#Selecting brands that comprise more than 2% of total listings\n",
    "brand_percentages = autos[\"brand\"].value_counts(normalize = True)\n",
    "top_two_percent = brand_percentages[brand_percentages > 0.02].index\n",
    "print(top_two_percent)"
   ]
  },
  {
   "cell_type": "code",
   "execution_count": 28,
   "metadata": {
    "collapsed": false
   },
   "outputs": [
    {
     "name": "stdout",
     "output_type": "stream",
     "text": [
      "{'peugeot': 3094, 'opel': 2975, 'fiat': 2813, 'bmw': 8332, 'audi': 9336, 'volkswagen': 5402, 'mercedes_benz': 8628, 'ford': 3749, 'renault': 2474}\n"
     ]
    }
   ],
   "source": [
    "# Assigning brands and the mean prices of those brands to a dictionary\n",
    "brand_means = {}\n",
    "\n",
    "for element in top_two_percent:\n",
    "    brand = autos[autos[\"brand\"] == element]\n",
    "    mean = brand[\"price_dollar\"].mean()\n",
    "    brand_means[element] = int(mean)\n",
    "    \n",
    "print(brand_means)"
   ]
  },
  {
   "cell_type": "markdown",
   "metadata": {},
   "source": [
    "Looking at our dictionary of mean prices, we can make the following observations:\n",
    "- Audi, Mercedez Benz, and BMW have the top 3 mean prices (each above \\$8,000)\n",
    "- Opel, Ford, Renault, Peugeot, and Fiat have mean prices on the lower end (less than \\$4,000)\n",
    "- Volkwswagen has a mean price somewhere in the middle\n",
    "\n"
   ]
  },
  {
   "cell_type": "code",
   "execution_count": 29,
   "metadata": {
    "collapsed": false
   },
   "outputs": [
    {
     "name": "stdout",
     "output_type": "stream",
     "text": [
      "{'peugeot': 127153, 'opel': 129310, 'fiat': 117121, 'bmw': 132572, 'audi': 129157, 'volkswagen': 128707, 'mercedes_benz': 130788, 'ford': 124266, 'renault': 128071}\n"
     ]
    }
   ],
   "source": [
    "# Using a similar process to collect the mean odomoeter readings for the same brands\n",
    "brand_odometer_means = {}\n",
    "\n",
    "for element in top_two_percent:\n",
    "    brand = autos[autos[\"brand\"] == element]\n",
    "    mean = brand[\"odometer_km\"].mean()\n",
    "    brand_odometer_means[element] = int(mean)\n",
    "    \n",
    "print(brand_odometer_means)"
   ]
  },
  {
   "cell_type": "code",
   "execution_count": 30,
   "metadata": {
    "collapsed": false
   },
   "outputs": [
    {
     "data": {
      "text/html": [
       "<div>\n",
       "<style scoped>\n",
       "    .dataframe tbody tr th:only-of-type {\n",
       "        vertical-align: middle;\n",
       "    }\n",
       "\n",
       "    .dataframe tbody tr th {\n",
       "        vertical-align: top;\n",
       "    }\n",
       "\n",
       "    .dataframe thead th {\n",
       "        text-align: right;\n",
       "    }\n",
       "</style>\n",
       "<table border=\"1\" class=\"dataframe\">\n",
       "  <thead>\n",
       "    <tr style=\"text-align: right;\">\n",
       "      <th></th>\n",
       "      <th>mean_price ($)</th>\n",
       "      <th>mean_distance (km)</th>\n",
       "    </tr>\n",
       "  </thead>\n",
       "  <tbody>\n",
       "    <tr>\n",
       "      <th>audi</th>\n",
       "      <td>9336</td>\n",
       "      <td>129157</td>\n",
       "    </tr>\n",
       "    <tr>\n",
       "      <th>mercedes_benz</th>\n",
       "      <td>8628</td>\n",
       "      <td>130788</td>\n",
       "    </tr>\n",
       "    <tr>\n",
       "      <th>bmw</th>\n",
       "      <td>8332</td>\n",
       "      <td>132572</td>\n",
       "    </tr>\n",
       "    <tr>\n",
       "      <th>volkswagen</th>\n",
       "      <td>5402</td>\n",
       "      <td>128707</td>\n",
       "    </tr>\n",
       "    <tr>\n",
       "      <th>ford</th>\n",
       "      <td>3749</td>\n",
       "      <td>124266</td>\n",
       "    </tr>\n",
       "    <tr>\n",
       "      <th>peugeot</th>\n",
       "      <td>3094</td>\n",
       "      <td>127153</td>\n",
       "    </tr>\n",
       "    <tr>\n",
       "      <th>opel</th>\n",
       "      <td>2975</td>\n",
       "      <td>129310</td>\n",
       "    </tr>\n",
       "    <tr>\n",
       "      <th>fiat</th>\n",
       "      <td>2813</td>\n",
       "      <td>117121</td>\n",
       "    </tr>\n",
       "    <tr>\n",
       "      <th>renault</th>\n",
       "      <td>2474</td>\n",
       "      <td>128071</td>\n",
       "    </tr>\n",
       "  </tbody>\n",
       "</table>\n",
       "</div>"
      ],
      "text/plain": [
       "               mean_price ($)  mean_distance (km)\n",
       "audi                     9336              129157\n",
       "mercedes_benz            8628              130788\n",
       "bmw                      8332              132572\n",
       "volkswagen               5402              128707\n",
       "ford                     3749              124266\n",
       "peugeot                  3094              127153\n",
       "opel                     2975              129310\n",
       "fiat                     2813              117121\n",
       "renault                  2474              128071"
      ]
     },
     "execution_count": 30,
     "metadata": {},
     "output_type": "execute_result"
    }
   ],
   "source": [
    "# We will convert the two dictionaries we just created into arrays and combine them into one dataframe\n",
    "\n",
    "brand_mean_series = pd.Series(brand_means).sort_values(ascending = False)\n",
    "brand_odom_series = pd.Series(brand_odometer_means)\n",
    "\n",
    "brand_odom_df = pd.DataFrame(brand_mean_series, columns = [\"mean_price ($)\"])\n",
    "brand_odom_df[\"mean_distance (km)\"] = brand_odom_series\n",
    "\n",
    "brand_odom_df"
   ]
  },
  {
   "cell_type": "markdown",
   "metadata": {
    "collapsed": true
   },
   "source": [
    "**Observation:**  Looking at our dataframe, we see that a more expensive car does not necessarily guarantee a larger lifetime distance traveled for the vehicle.  For example, Opel had a higher mean distance than Audi, but costs $6,000 less on average.  Therefore, a strong correlation does not exist between these two categories"
   ]
  },
  {
   "cell_type": "markdown",
   "metadata": {
    "collapsed": true
   },
   "source": [
    "## Further Analysis\n",
    "\n",
    "Here are some other questions we will tackle:\n",
    "1. What is the relationship between the cost of cars and whether or not they are damaged?\n",
    "2. Does fuel type have any bearing on the price of a car or the mean distance?\n",
    "3. Are there any models within each brand that provide an owner the most \"bang for their buck\"?"
   ]
  },
  {
   "cell_type": "markdown",
   "metadata": {},
   "source": [
    "## Analyzing Damaged Cars and Costs"
   ]
  },
  {
   "cell_type": "code",
   "execution_count": 31,
   "metadata": {
    "collapsed": false
   },
   "outputs": [
    {
     "data": {
      "text/plain": [
       "nein    33834\n",
       "NaN      8307\n",
       "ja       4540\n",
       "Name: unrepaired_damage, dtype: int64"
      ]
     },
     "execution_count": 31,
     "metadata": {},
     "output_type": "execute_result"
    }
   ],
   "source": [
    "autos[\"unrepaired_damage\"].value_counts(dropna = False)"
   ]
  },
  {
   "cell_type": "markdown",
   "metadata": {},
   "source": [
    "We see that a signficant number of rows have NaN values.  We will ignore these rows for our calculations.  Also, the strings in this column are in German.  We will translate these words to English to avoid any confusion (nein = no, ja = yes)."
   ]
  },
  {
   "cell_type": "code",
   "execution_count": 32,
   "metadata": {
    "collapsed": false
   },
   "outputs": [
    {
     "data": {
      "text/plain": [
       "no     33834\n",
       "NaN     8307\n",
       "yes     4540\n",
       "Name: unrepaired_damage, dtype: int64"
      ]
     },
     "execution_count": 32,
     "metadata": {},
     "output_type": "execute_result"
    }
   ],
   "source": [
    "# Translating from German to English in \"unrepaired_damage\" column\n",
    "autos[\"unrepaired_damage\"] = autos[\"unrepaired_damage\"].str.replace(\"nein\", \"no\").str.replace(\"ja\", \"yes\")\n",
    "autos[\"unrepaired_damage\"].value_counts(dropna = False)"
   ]
  },
  {
   "cell_type": "code",
   "execution_count": 33,
   "metadata": {
    "collapsed": false
   },
   "outputs": [
    {
     "name": "stdout",
     "output_type": "stream",
     "text": [
      "{'peugeot': 1372, 'opel': 1367, 'fiat': 1146, 'bmw': 3512, 'audi': 3324, 'volkswagen': 2179, 'mercedes_benz': 3921, 'ford': 1375, 'renault': 1145}\n"
     ]
    }
   ],
   "source": [
    "# Aggregating dictionary with mean price of unrepaired vehicles for each brand we studied before\n",
    "# We will use the same brands from \"top_two_percent\" \n",
    "unrepaired_mean_dict = {}\n",
    "\n",
    "for element in top_two_percent:\n",
    "    unrepaired_element = autos[(autos[\"brand\"] == element) & (autos[\"unrepaired_damage\"] == \"yes\")]\n",
    "    unrepaired_mean_price = unrepaired_element[\"price_dollar\"].mean()\n",
    "    unrepaired_mean_dict[element] = int(unrepaired_mean_price)\n",
    "\n",
    "print(unrepaired_mean_dict)"
   ]
  },
  {
   "cell_type": "code",
   "execution_count": 34,
   "metadata": {
    "collapsed": false
   },
   "outputs": [
    {
     "name": "stdout",
     "output_type": "stream",
     "text": [
      "{'peugeot': 3674, 'opel': 3660, 'fiat': 3446, 'bmw': 9437, 'audi': 10914, 'volkswagen': 6469, 'mercedes_benz': 9798, 'ford': 4660, 'renault': 3103}\n"
     ]
    }
   ],
   "source": [
    "# Aggregating a corresponding dictionary for repaired vehicles\n",
    "repaired_mean_dict = {}\n",
    "\n",
    "for element in top_two_percent:\n",
    "    repaired_element = autos[(autos[\"brand\"] == element) & (autos[\"unrepaired_damage\"] == \"no\")]\n",
    "    repaired_mean_price = repaired_element[\"price_dollar\"].mean()\n",
    "    repaired_mean_dict[element] = int(repaired_mean_price)\n",
    "\n",
    "print(repaired_mean_dict)"
   ]
  },
  {
   "cell_type": "code",
   "execution_count": 35,
   "metadata": {
    "collapsed": false
   },
   "outputs": [
    {
     "data": {
      "text/html": [
       "<div>\n",
       "<style scoped>\n",
       "    .dataframe tbody tr th:only-of-type {\n",
       "        vertical-align: middle;\n",
       "    }\n",
       "\n",
       "    .dataframe tbody tr th {\n",
       "        vertical-align: top;\n",
       "    }\n",
       "\n",
       "    .dataframe thead th {\n",
       "        text-align: right;\n",
       "    }\n",
       "</style>\n",
       "<table border=\"1\" class=\"dataframe\">\n",
       "  <thead>\n",
       "    <tr style=\"text-align: right;\">\n",
       "      <th></th>\n",
       "      <th>repaired_mean_price ($)</th>\n",
       "      <th>unrepaired_mean_price ($)</th>\n",
       "      <th>difference ($)</th>\n",
       "    </tr>\n",
       "  </thead>\n",
       "  <tbody>\n",
       "    <tr>\n",
       "      <th>audi</th>\n",
       "      <td>10914</td>\n",
       "      <td>3324</td>\n",
       "      <td>7590</td>\n",
       "    </tr>\n",
       "    <tr>\n",
       "      <th>mercedes_benz</th>\n",
       "      <td>9798</td>\n",
       "      <td>3921</td>\n",
       "      <td>5877</td>\n",
       "    </tr>\n",
       "    <tr>\n",
       "      <th>bmw</th>\n",
       "      <td>9437</td>\n",
       "      <td>3512</td>\n",
       "      <td>5925</td>\n",
       "    </tr>\n",
       "    <tr>\n",
       "      <th>volkswagen</th>\n",
       "      <td>6469</td>\n",
       "      <td>2179</td>\n",
       "      <td>4290</td>\n",
       "    </tr>\n",
       "    <tr>\n",
       "      <th>ford</th>\n",
       "      <td>4660</td>\n",
       "      <td>1375</td>\n",
       "      <td>3285</td>\n",
       "    </tr>\n",
       "    <tr>\n",
       "      <th>peugeot</th>\n",
       "      <td>3674</td>\n",
       "      <td>1372</td>\n",
       "      <td>2302</td>\n",
       "    </tr>\n",
       "    <tr>\n",
       "      <th>opel</th>\n",
       "      <td>3660</td>\n",
       "      <td>1367</td>\n",
       "      <td>2293</td>\n",
       "    </tr>\n",
       "    <tr>\n",
       "      <th>fiat</th>\n",
       "      <td>3446</td>\n",
       "      <td>1146</td>\n",
       "      <td>2300</td>\n",
       "    </tr>\n",
       "    <tr>\n",
       "      <th>renault</th>\n",
       "      <td>3103</td>\n",
       "      <td>1145</td>\n",
       "      <td>1958</td>\n",
       "    </tr>\n",
       "  </tbody>\n",
       "</table>\n",
       "</div>"
      ],
      "text/plain": [
       "               repaired_mean_price ($)  unrepaired_mean_price ($)  \\\n",
       "audi                             10914                       3324   \n",
       "mercedes_benz                     9798                       3921   \n",
       "bmw                               9437                       3512   \n",
       "volkswagen                        6469                       2179   \n",
       "ford                              4660                       1375   \n",
       "peugeot                           3674                       1372   \n",
       "opel                              3660                       1367   \n",
       "fiat                              3446                       1146   \n",
       "renault                           3103                       1145   \n",
       "\n",
       "               difference ($)  \n",
       "audi                     7590  \n",
       "mercedes_benz            5877  \n",
       "bmw                      5925  \n",
       "volkswagen               4290  \n",
       "ford                     3285  \n",
       "peugeot                  2302  \n",
       "opel                     2293  \n",
       "fiat                     2300  \n",
       "renault                  1958  "
      ]
     },
     "execution_count": 35,
     "metadata": {},
     "output_type": "execute_result"
    }
   ],
   "source": [
    "#Creating a dataframe putting these dictionaries together\n",
    "\n",
    "repaired_mean_series = pd.Series(repaired_mean_dict).sort_values(ascending = False)\n",
    "unrepaired_mean_series = pd.Series(unrepaired_mean_dict)\n",
    "\n",
    "damaged_df = pd.DataFrame(repaired_mean_series, columns = [\"repaired_mean_price ($)\"])\n",
    "damaged_df[\"unrepaired_mean_price ($)\"] = unrepaired_mean_series\n",
    "damaged_df[\"difference ($)\"] = damaged_df[\"repaired_mean_price ($)\"] - damaged_df[\"unrepaired_mean_price ($)\"]\n",
    "\n",
    "damaged_df"
   ]
  },
  {
   "cell_type": "markdown",
   "metadata": {},
   "source": [
    "**Observation:** Repaired cars advertised on this site sell more than unrepaired cars.  Specifically, the difference between these prices is greater for more expensive cars (i.e. Audi, Mercedes Benz, BMW).  From a seller standpoint, I would definitely repair a car before selling it on this site because I could get more money on the sale.  I would keep in mind the costs of repairing the car in order to make sure that this avenue could be a more profitable option before selling. "
   ]
  },
  {
   "cell_type": "markdown",
   "metadata": {},
   "source": [
    "## Does Fuel Type Affect Price or Distance Traveled?"
   ]
  },
  {
   "cell_type": "markdown",
   "metadata": {},
   "source": [
    "We will use a similar method to the ones we have used earlier to explore the relationship between these categories."
   ]
  },
  {
   "cell_type": "code",
   "execution_count": 36,
   "metadata": {
    "collapsed": false
   },
   "outputs": [
    {
     "data": {
      "text/plain": [
       "benzin     28540\n",
       "diesel     14032\n",
       "NaN         3318\n",
       "lpg          649\n",
       "cng           71\n",
       "hybrid        37\n",
       "elektro       19\n",
       "andere        15\n",
       "Name: fuel_type, dtype: int64"
      ]
     },
     "execution_count": 36,
     "metadata": {},
     "output_type": "execute_result"
    }
   ],
   "source": [
    "autos[\"fuel_type\"].value_counts(dropna = False)"
   ]
  },
  {
   "cell_type": "markdown",
   "metadata": {},
   "source": [
    "For our analysis, we will only analyze benzin (i.e. regular gasoline) and diesel fuel types becuase they make up a majority of our data."
   ]
  },
  {
   "cell_type": "code",
   "execution_count": 37,
   "metadata": {
    "collapsed": false
   },
   "outputs": [
    {
     "data": {
      "text/html": [
       "<div>\n",
       "<style scoped>\n",
       "    .dataframe tbody tr th:only-of-type {\n",
       "        vertical-align: middle;\n",
       "    }\n",
       "\n",
       "    .dataframe tbody tr th {\n",
       "        vertical-align: top;\n",
       "    }\n",
       "\n",
       "    .dataframe thead th {\n",
       "        text-align: right;\n",
       "    }\n",
       "</style>\n",
       "<table border=\"1\" class=\"dataframe\">\n",
       "  <thead>\n",
       "    <tr style=\"text-align: right;\">\n",
       "      <th></th>\n",
       "      <th>mean_diesel_price ($)</th>\n",
       "      <th>mean_benzin_price ($)</th>\n",
       "      <th>price_difference ($)</th>\n",
       "      <th>mean_diesel_odom (km)</th>\n",
       "      <th>mean_benzin_odom (km)</th>\n",
       "      <th>odom_difference (km)</th>\n",
       "    </tr>\n",
       "  </thead>\n",
       "  <tbody>\n",
       "    <tr>\n",
       "      <th>bmw</th>\n",
       "      <td>11801</td>\n",
       "      <td>6509</td>\n",
       "      <td>5292</td>\n",
       "      <td>131284</td>\n",
       "      <td>133330</td>\n",
       "      <td>-2046</td>\n",
       "    </tr>\n",
       "    <tr>\n",
       "      <th>audi</th>\n",
       "      <td>11315</td>\n",
       "      <td>8150</td>\n",
       "      <td>3165</td>\n",
       "      <td>131400</td>\n",
       "      <td>125989</td>\n",
       "      <td>5411</td>\n",
       "    </tr>\n",
       "    <tr>\n",
       "      <th>mercedes_benz</th>\n",
       "      <td>9672</td>\n",
       "      <td>8226</td>\n",
       "      <td>1446</td>\n",
       "      <td>136019</td>\n",
       "      <td>126316</td>\n",
       "      <td>9703</td>\n",
       "    </tr>\n",
       "    <tr>\n",
       "      <th>volkswagen</th>\n",
       "      <td>8090</td>\n",
       "      <td>4087</td>\n",
       "      <td>4003</td>\n",
       "      <td>131257</td>\n",
       "      <td>126463</td>\n",
       "      <td>4794</td>\n",
       "    </tr>\n",
       "    <tr>\n",
       "      <th>ford</th>\n",
       "      <td>5109</td>\n",
       "      <td>3393</td>\n",
       "      <td>1716</td>\n",
       "      <td>133942</td>\n",
       "      <td>119572</td>\n",
       "      <td>14370</td>\n",
       "    </tr>\n",
       "    <tr>\n",
       "      <th>opel</th>\n",
       "      <td>5010</td>\n",
       "      <td>2605</td>\n",
       "      <td>2405</td>\n",
       "      <td>134705</td>\n",
       "      <td>127573</td>\n",
       "      <td>7132</td>\n",
       "    </tr>\n",
       "    <tr>\n",
       "      <th>peugeot</th>\n",
       "      <td>4480</td>\n",
       "      <td>2870</td>\n",
       "      <td>1610</td>\n",
       "      <td>133741</td>\n",
       "      <td>124314</td>\n",
       "      <td>9427</td>\n",
       "    </tr>\n",
       "    <tr>\n",
       "      <th>renault</th>\n",
       "      <td>4073</td>\n",
       "      <td>2166</td>\n",
       "      <td>1907</td>\n",
       "      <td>135926</td>\n",
       "      <td>126083</td>\n",
       "      <td>9843</td>\n",
       "    </tr>\n",
       "    <tr>\n",
       "      <th>fiat</th>\n",
       "      <td>4048</td>\n",
       "      <td>2687</td>\n",
       "      <td>1361</td>\n",
       "      <td>133216</td>\n",
       "      <td>112883</td>\n",
       "      <td>20333</td>\n",
       "    </tr>\n",
       "  </tbody>\n",
       "</table>\n",
       "</div>"
      ],
      "text/plain": [
       "               mean_diesel_price ($)  mean_benzin_price ($)  \\\n",
       "bmw                            11801                   6509   \n",
       "audi                           11315                   8150   \n",
       "mercedes_benz                   9672                   8226   \n",
       "volkswagen                      8090                   4087   \n",
       "ford                            5109                   3393   \n",
       "opel                            5010                   2605   \n",
       "peugeot                         4480                   2870   \n",
       "renault                         4073                   2166   \n",
       "fiat                            4048                   2687   \n",
       "\n",
       "               price_difference ($)  mean_diesel_odom (km)  \\\n",
       "bmw                            5292                 131284   \n",
       "audi                           3165                 131400   \n",
       "mercedes_benz                  1446                 136019   \n",
       "volkswagen                     4003                 131257   \n",
       "ford                           1716                 133942   \n",
       "opel                           2405                 134705   \n",
       "peugeot                        1610                 133741   \n",
       "renault                        1907                 135926   \n",
       "fiat                           1361                 133216   \n",
       "\n",
       "               mean_benzin_odom (km)  odom_difference (km)  \n",
       "bmw                           133330                 -2046  \n",
       "audi                          125989                  5411  \n",
       "mercedes_benz                 126316                  9703  \n",
       "volkswagen                    126463                  4794  \n",
       "ford                          119572                 14370  \n",
       "opel                          127573                  7132  \n",
       "peugeot                       124314                  9427  \n",
       "renault                       126083                  9843  \n",
       "fiat                          112883                 20333  "
      ]
     },
     "execution_count": 37,
     "metadata": {},
     "output_type": "execute_result"
    }
   ],
   "source": [
    "benzin_price_dict = {}\n",
    "diesel_price_dict = {}\n",
    "benzin_odom_dict = {}\n",
    "diesel_odom_dict = {}\n",
    "\n",
    "for element in top_two_percent:\n",
    "    benzin = autos[(autos[\"brand\"] == element) & (autos[\"fuel_type\"] == \"benzin\")]\n",
    "    diesel = autos[(autos[\"brand\"] == element) & (autos[\"fuel_type\"] == \"diesel\")]\n",
    "    \n",
    "    benzin_mean_price = benzin[\"price_dollar\"].mean()\n",
    "    benzin_mean_odom = benzin[\"odometer_km\"].mean()\n",
    "    diesel_mean_price = diesel[\"price_dollar\"].mean()\n",
    "    diesel_mean_odom = diesel[\"odometer_km\"].mean()\n",
    "    \n",
    "    benzin_price_dict[element] = int(benzin_mean_price)\n",
    "    benzin_odom_dict[element] = int(benzin_mean_odom)\n",
    "    diesel_price_dict[element] = int(diesel_mean_price)\n",
    "    diesel_odom_dict[element] = int(diesel_mean_odom)\n",
    "\n",
    "diesel_price_series = pd.Series(diesel_price_dict).sort_values(ascending = False)\n",
    "benzin_price_series = pd.Series(benzin_price_dict)\n",
    "diesel_odom_series = pd.Series(diesel_odom_dict)\n",
    "benzin_odom_series = pd.Series(benzin_odom_dict)\n",
    "\n",
    "fuel_df = pd.DataFrame(diesel_price_series, columns = [\"mean_diesel_price ($)\"])\n",
    "fuel_df[\"mean_benzin_price ($)\"] = benzin_price_series\n",
    "fuel_df[\"price_difference ($)\"] = fuel_df[\"mean_diesel_price ($)\"] - fuel_df[\"mean_benzin_price ($)\"]\n",
    "fuel_df[\"mean_diesel_odom (km)\"] = diesel_odom_series\n",
    "fuel_df[\"mean_benzin_odom (km)\"] = benzin_odom_series\n",
    "fuel_df[\"odom_difference (km)\"] = fuel_df[\"mean_diesel_odom (km)\"] - fuel_df[\"mean_benzin_odom (km)\"]\n",
    "\n",
    "fuel_df"
   ]
  },
  {
   "cell_type": "markdown",
   "metadata": {},
   "source": [
    "**Observations:** With respect to average cost of car, vehicles using diesel fuel are more expensive than those using regular gasolne.  However, except for BMW cars, vehicles using diesel fuel have larger odometer readings than regular gasoline.  For some brands, these differences are telling.  For example, Fiats using diesel fuel cost about \\$1500 more than those using regular gasoline, but Fiats using diesel drove 20,000 km farther (on average).  A similar comparison can be made for Ford vehicles.  If I was someone looking for a vehicle to buy, I would consider buying the diesel version of these brands because of the extra distance these vehicles can travel, on average.  The only brand that did not see a positive correlation between price difference and distance was BMW.  Diesel BMWs cost more on average and have lower average distance traveled.  If I was buying a BMW vehicle, I would choose one that utilizes regular gasoline. "
   ]
  },
  {
   "cell_type": "markdown",
   "metadata": {},
   "source": [
    "## Analyzing Volkwagen Model Types"
   ]
  },
  {
   "cell_type": "code",
   "execution_count": 38,
   "metadata": {
    "collapsed": false
   },
   "outputs": [
    {
     "data": {
      "text/plain": [
       "golf           3707\n",
       "polo           1609\n",
       "passat         1349\n",
       "transporter     674\n",
       "touran          433\n",
       "lupo            322\n",
       "sharan          222\n",
       "caddy           204\n",
       "beetle          123\n",
       "tiguan          118\n",
       "bora            100\n",
       "andere           96\n",
       "touareg          94\n",
       "scirocco         85\n",
       "fox              82\n",
       "eos              66\n",
       "kaefer           57\n",
       "up               51\n",
       "jetta            38\n",
       "phaeton          31\n",
       "cc               18\n",
       "amarok            6\n",
       "Name: model, dtype: int64"
      ]
     },
     "execution_count": 38,
     "metadata": {},
     "output_type": "execute_result"
    }
   ],
   "source": [
    "autos[autos[\"brand\"] == \"volkswagen\"][\"model\"].value_counts()"
   ]
  },
  {
   "cell_type": "markdown",
   "metadata": {},
   "source": [
    "For this analysis, we will analyze mean price and odometer readings for each model of Volkswagen to see if there are any conclusions we can make about these models.  We will only use models with at least 100 entries so that we have a large enough sample size for each model."
   ]
  },
  {
   "cell_type": "code",
   "execution_count": 39,
   "metadata": {
    "collapsed": false
   },
   "outputs": [
    {
     "data": {
      "text/html": [
       "<div>\n",
       "<style scoped>\n",
       "    .dataframe tbody tr th:only-of-type {\n",
       "        vertical-align: middle;\n",
       "    }\n",
       "\n",
       "    .dataframe tbody tr th {\n",
       "        vertical-align: top;\n",
       "    }\n",
       "\n",
       "    .dataframe thead th {\n",
       "        text-align: right;\n",
       "    }\n",
       "</style>\n",
       "<table border=\"1\" class=\"dataframe\">\n",
       "  <thead>\n",
       "    <tr style=\"text-align: right;\">\n",
       "      <th></th>\n",
       "      <th>mean_price ($)</th>\n",
       "      <th>mean_distance (km)</th>\n",
       "      <th>km_per_dollar</th>\n",
       "    </tr>\n",
       "  </thead>\n",
       "  <tbody>\n",
       "    <tr>\n",
       "      <th>tiguan</th>\n",
       "      <td>17809</td>\n",
       "      <td>88644</td>\n",
       "      <td>4.977483</td>\n",
       "    </tr>\n",
       "    <tr>\n",
       "      <th>transporter</th>\n",
       "      <td>10374</td>\n",
       "      <td>135445</td>\n",
       "      <td>13.056198</td>\n",
       "    </tr>\n",
       "    <tr>\n",
       "      <th>touran</th>\n",
       "      <td>7914</td>\n",
       "      <td>129284</td>\n",
       "      <td>16.336113</td>\n",
       "    </tr>\n",
       "    <tr>\n",
       "      <th>caddy</th>\n",
       "      <td>7021</td>\n",
       "      <td>112622</td>\n",
       "      <td>16.040735</td>\n",
       "    </tr>\n",
       "    <tr>\n",
       "      <th>beetle</th>\n",
       "      <td>6951</td>\n",
       "      <td>114146</td>\n",
       "      <td>16.421522</td>\n",
       "    </tr>\n",
       "    <tr>\n",
       "      <th>sharan</th>\n",
       "      <td>5783</td>\n",
       "      <td>133040</td>\n",
       "      <td>23.005361</td>\n",
       "    </tr>\n",
       "    <tr>\n",
       "      <th>golf</th>\n",
       "      <td>5081</td>\n",
       "      <td>128048</td>\n",
       "      <td>25.201338</td>\n",
       "    </tr>\n",
       "    <tr>\n",
       "      <th>passat</th>\n",
       "      <td>4948</td>\n",
       "      <td>139725</td>\n",
       "      <td>28.238682</td>\n",
       "    </tr>\n",
       "    <tr>\n",
       "      <th>polo</th>\n",
       "      <td>2593</td>\n",
       "      <td>127445</td>\n",
       "      <td>49.149634</td>\n",
       "    </tr>\n",
       "    <tr>\n",
       "      <th>bora</th>\n",
       "      <td>2292</td>\n",
       "      <td>144700</td>\n",
       "      <td>63.132635</td>\n",
       "    </tr>\n",
       "    <tr>\n",
       "      <th>lupo</th>\n",
       "      <td>1401</td>\n",
       "      <td>138214</td>\n",
       "      <td>98.653819</td>\n",
       "    </tr>\n",
       "  </tbody>\n",
       "</table>\n",
       "</div>"
      ],
      "text/plain": [
       "             mean_price ($)  mean_distance (km)  km_per_dollar\n",
       "tiguan                17809               88644       4.977483\n",
       "transporter           10374              135445      13.056198\n",
       "touran                 7914              129284      16.336113\n",
       "caddy                  7021              112622      16.040735\n",
       "beetle                 6951              114146      16.421522\n",
       "sharan                 5783              133040      23.005361\n",
       "golf                   5081              128048      25.201338\n",
       "passat                 4948              139725      28.238682\n",
       "polo                   2593              127445      49.149634\n",
       "bora                   2292              144700      63.132635\n",
       "lupo                   1401              138214      98.653819"
      ]
     },
     "execution_count": 39,
     "metadata": {},
     "output_type": "execute_result"
    }
   ],
   "source": [
    "volkswagen_df = autos[autos[\"brand\"] == \"volkswagen\"]\n",
    "volkswagen_models = volkswagen_df[\"model\"].value_counts()\n",
    "volkswagen_100_plus = volkswagen_models[volkswagen_models >= 100].index\n",
    "\n",
    "volks_mean_price_dict = {}\n",
    "volks_mean_odom_dict = {}\n",
    "\n",
    "for element in volkswagen_100_plus:\n",
    "    brand = volkswagen_df[volkswagen_df[\"model\"] == element]\n",
    "    mean_price = brand[\"price_dollar\"].mean()\n",
    "    mean_odom = brand[\"odometer_km\"].mean()\n",
    "    volks_mean_price_dict[element] = int(mean_price)\n",
    "    volks_mean_odom_dict[element] = int(mean_odom)\n",
    "    \n",
    "volks_mean_price_series = pd.Series(volks_mean_price_dict).sort_values(ascending = False)\n",
    "volks_mean_odom_series = pd.Series(volks_mean_odom_dict)\n",
    "\n",
    "volkswagen_models_df = pd.DataFrame(volks_mean_price_series, columns = [\"mean_price ($)\"])\n",
    "volkswagen_models_df[\"mean_distance (km)\"] = volks_mean_odom_series\n",
    "volkswagen_models_df[\"km_per_dollar\"] = volkswagen_models_df[\"mean_distance (km)\"] / volkswagen_models_df[\"mean_price ($)\"]\n",
    "\n",
    "volkswagen_models_df"
   ]
  },
  {
   "cell_type": "markdown",
   "metadata": {},
   "source": [
    "**Observations:** The cheapest models of Volkswagen (Lupo, Bora, and Polo) have km_per_dollar values much greater than the other models.  As models becomes more expensive, the km_per_dollar ratio decreases.  Therefore, if you are looking for a Volkswagen is cost effective and has great mileage, you should consider buying these models.   \n",
    "\n",
    "You can perform a similar analysis with the other brands to see if a similar trend exists."
   ]
  }
 ],
 "metadata": {
  "kernelspec": {
   "display_name": "Python 3",
   "language": "python",
   "name": "python3"
  },
  "language_info": {
   "codemirror_mode": {
    "name": "ipython",
    "version": 3
   },
   "file_extension": ".py",
   "mimetype": "text/x-python",
   "name": "python",
   "nbconvert_exporter": "python",
   "pygments_lexer": "ipython3",
   "version": "3.4.3"
  }
 },
 "nbformat": 4,
 "nbformat_minor": 2
}
